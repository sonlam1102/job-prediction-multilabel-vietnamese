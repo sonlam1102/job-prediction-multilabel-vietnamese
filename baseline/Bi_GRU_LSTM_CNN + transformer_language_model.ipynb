{
  "nbformat": 4,
  "nbformat_minor": 0,
  "metadata": {
    "accelerator": "GPU",
    "colab": {
      "name": "Job Prediction Bert - single.ipynb",
      "provenance": [],
      "collapsed_sections": [
        "4j_ItRqXQYV0"
      ]
    },
    "kernelspec": {
      "display_name": "Python 3",
      "name": "python3"
    },
    "language_info": {
      "name": "python"
    },
    "widgets": {
      "application/vnd.jupyter.widget-state+json": {
        "d7c5614f60d04d33b350bae987d0fb04": {
          "model_module": "@jupyter-widgets/controls",
          "model_name": "HBoxModel",
          "model_module_version": "1.5.0",
          "state": {
            "_view_name": "HBoxView",
            "_dom_classes": [],
            "_model_name": "HBoxModel",
            "_view_module": "@jupyter-widgets/controls",
            "_model_module_version": "1.5.0",
            "_view_count": null,
            "_view_module_version": "1.5.0",
            "box_style": "",
            "layout": "IPY_MODEL_1a2d5e31d3a447f8a1de003de31f761f",
            "_model_module": "@jupyter-widgets/controls",
            "children": [
              "IPY_MODEL_b547b8e012e24935b878952b653559af",
              "IPY_MODEL_06900afdaa3940a0bc736b93b5f7ee07",
              "IPY_MODEL_fb7474c1799d4d548467fea037747b9d"
            ]
          }
        },
        "1a2d5e31d3a447f8a1de003de31f761f": {
          "model_module": "@jupyter-widgets/base",
          "model_name": "LayoutModel",
          "model_module_version": "1.2.0",
          "state": {
            "_view_name": "LayoutView",
            "grid_template_rows": null,
            "right": null,
            "justify_content": null,
            "_view_module": "@jupyter-widgets/base",
            "overflow": null,
            "_model_module_version": "1.2.0",
            "_view_count": null,
            "flex_flow": null,
            "width": null,
            "min_width": null,
            "border": null,
            "align_items": null,
            "bottom": null,
            "_model_module": "@jupyter-widgets/base",
            "top": null,
            "grid_column": null,
            "overflow_y": null,
            "overflow_x": null,
            "grid_auto_flow": null,
            "grid_area": null,
            "grid_template_columns": null,
            "flex": null,
            "_model_name": "LayoutModel",
            "justify_items": null,
            "grid_row": null,
            "max_height": null,
            "align_content": null,
            "visibility": null,
            "align_self": null,
            "height": null,
            "min_height": null,
            "padding": null,
            "grid_auto_rows": null,
            "grid_gap": null,
            "max_width": null,
            "order": null,
            "_view_module_version": "1.2.0",
            "grid_template_areas": null,
            "object_position": null,
            "object_fit": null,
            "grid_auto_columns": null,
            "margin": null,
            "display": null,
            "left": null
          }
        },
        "b547b8e012e24935b878952b653559af": {
          "model_module": "@jupyter-widgets/controls",
          "model_name": "HTMLModel",
          "model_module_version": "1.5.0",
          "state": {
            "_view_name": "HTMLView",
            "style": "IPY_MODEL_67f91890d6984bfda9665ad1e05f1c4a",
            "_dom_classes": [],
            "description": "",
            "_model_name": "HTMLModel",
            "placeholder": "​",
            "_view_module": "@jupyter-widgets/controls",
            "_model_module_version": "1.5.0",
            "value": "Downloading: 100%",
            "_view_count": null,
            "_view_module_version": "1.5.0",
            "description_tooltip": null,
            "_model_module": "@jupyter-widgets/controls",
            "layout": "IPY_MODEL_73e951a5409947899424457429f17323"
          }
        },
        "06900afdaa3940a0bc736b93b5f7ee07": {
          "model_module": "@jupyter-widgets/controls",
          "model_name": "FloatProgressModel",
          "model_module_version": "1.5.0",
          "state": {
            "_view_name": "ProgressView",
            "style": "IPY_MODEL_7738f0e9316949b58b42ed74eddd812c",
            "_dom_classes": [],
            "description": "",
            "_model_name": "FloatProgressModel",
            "bar_style": "success",
            "max": 411,
            "_view_module": "@jupyter-widgets/controls",
            "_model_module_version": "1.5.0",
            "value": 411,
            "_view_count": null,
            "_view_module_version": "1.5.0",
            "orientation": "horizontal",
            "min": 0,
            "description_tooltip": null,
            "_model_module": "@jupyter-widgets/controls",
            "layout": "IPY_MODEL_5ba5017034dc4f39aa79d58ec6de9f24"
          }
        },
        "fb7474c1799d4d548467fea037747b9d": {
          "model_module": "@jupyter-widgets/controls",
          "model_name": "HTMLModel",
          "model_module_version": "1.5.0",
          "state": {
            "_view_name": "HTMLView",
            "style": "IPY_MODEL_0b336c6fda3b4de1b9c37d3b45ad8708",
            "_dom_classes": [],
            "description": "",
            "_model_name": "HTMLModel",
            "placeholder": "​",
            "_view_module": "@jupyter-widgets/controls",
            "_model_module_version": "1.5.0",
            "value": " 411/411 [00:00&lt;00:00, 11.8kB/s]",
            "_view_count": null,
            "_view_module_version": "1.5.0",
            "description_tooltip": null,
            "_model_module": "@jupyter-widgets/controls",
            "layout": "IPY_MODEL_1e8a886fbe4d47ac8ea49def75a34c45"
          }
        },
        "67f91890d6984bfda9665ad1e05f1c4a": {
          "model_module": "@jupyter-widgets/controls",
          "model_name": "DescriptionStyleModel",
          "model_module_version": "1.5.0",
          "state": {
            "_view_name": "StyleView",
            "_model_name": "DescriptionStyleModel",
            "description_width": "",
            "_view_module": "@jupyter-widgets/base",
            "_model_module_version": "1.5.0",
            "_view_count": null,
            "_view_module_version": "1.2.0",
            "_model_module": "@jupyter-widgets/controls"
          }
        },
        "73e951a5409947899424457429f17323": {
          "model_module": "@jupyter-widgets/base",
          "model_name": "LayoutModel",
          "model_module_version": "1.2.0",
          "state": {
            "_view_name": "LayoutView",
            "grid_template_rows": null,
            "right": null,
            "justify_content": null,
            "_view_module": "@jupyter-widgets/base",
            "overflow": null,
            "_model_module_version": "1.2.0",
            "_view_count": null,
            "flex_flow": null,
            "width": null,
            "min_width": null,
            "border": null,
            "align_items": null,
            "bottom": null,
            "_model_module": "@jupyter-widgets/base",
            "top": null,
            "grid_column": null,
            "overflow_y": null,
            "overflow_x": null,
            "grid_auto_flow": null,
            "grid_area": null,
            "grid_template_columns": null,
            "flex": null,
            "_model_name": "LayoutModel",
            "justify_items": null,
            "grid_row": null,
            "max_height": null,
            "align_content": null,
            "visibility": null,
            "align_self": null,
            "height": null,
            "min_height": null,
            "padding": null,
            "grid_auto_rows": null,
            "grid_gap": null,
            "max_width": null,
            "order": null,
            "_view_module_version": "1.2.0",
            "grid_template_areas": null,
            "object_position": null,
            "object_fit": null,
            "grid_auto_columns": null,
            "margin": null,
            "display": null,
            "left": null
          }
        },
        "7738f0e9316949b58b42ed74eddd812c": {
          "model_module": "@jupyter-widgets/controls",
          "model_name": "ProgressStyleModel",
          "model_module_version": "1.5.0",
          "state": {
            "_view_name": "StyleView",
            "_model_name": "ProgressStyleModel",
            "description_width": "",
            "_view_module": "@jupyter-widgets/base",
            "_model_module_version": "1.5.0",
            "_view_count": null,
            "_view_module_version": "1.2.0",
            "bar_color": null,
            "_model_module": "@jupyter-widgets/controls"
          }
        },
        "5ba5017034dc4f39aa79d58ec6de9f24": {
          "model_module": "@jupyter-widgets/base",
          "model_name": "LayoutModel",
          "model_module_version": "1.2.0",
          "state": {
            "_view_name": "LayoutView",
            "grid_template_rows": null,
            "right": null,
            "justify_content": null,
            "_view_module": "@jupyter-widgets/base",
            "overflow": null,
            "_model_module_version": "1.2.0",
            "_view_count": null,
            "flex_flow": null,
            "width": null,
            "min_width": null,
            "border": null,
            "align_items": null,
            "bottom": null,
            "_model_module": "@jupyter-widgets/base",
            "top": null,
            "grid_column": null,
            "overflow_y": null,
            "overflow_x": null,
            "grid_auto_flow": null,
            "grid_area": null,
            "grid_template_columns": null,
            "flex": null,
            "_model_name": "LayoutModel",
            "justify_items": null,
            "grid_row": null,
            "max_height": null,
            "align_content": null,
            "visibility": null,
            "align_self": null,
            "height": null,
            "min_height": null,
            "padding": null,
            "grid_auto_rows": null,
            "grid_gap": null,
            "max_width": null,
            "order": null,
            "_view_module_version": "1.2.0",
            "grid_template_areas": null,
            "object_position": null,
            "object_fit": null,
            "grid_auto_columns": null,
            "margin": null,
            "display": null,
            "left": null
          }
        },
        "0b336c6fda3b4de1b9c37d3b45ad8708": {
          "model_module": "@jupyter-widgets/controls",
          "model_name": "DescriptionStyleModel",
          "model_module_version": "1.5.0",
          "state": {
            "_view_name": "StyleView",
            "_model_name": "DescriptionStyleModel",
            "description_width": "",
            "_view_module": "@jupyter-widgets/base",
            "_model_module_version": "1.5.0",
            "_view_count": null,
            "_view_module_version": "1.2.0",
            "_model_module": "@jupyter-widgets/controls"
          }
        },
        "1e8a886fbe4d47ac8ea49def75a34c45": {
          "model_module": "@jupyter-widgets/base",
          "model_name": "LayoutModel",
          "model_module_version": "1.2.0",
          "state": {
            "_view_name": "LayoutView",
            "grid_template_rows": null,
            "right": null,
            "justify_content": null,
            "_view_module": "@jupyter-widgets/base",
            "overflow": null,
            "_model_module_version": "1.2.0",
            "_view_count": null,
            "flex_flow": null,
            "width": null,
            "min_width": null,
            "border": null,
            "align_items": null,
            "bottom": null,
            "_model_module": "@jupyter-widgets/base",
            "top": null,
            "grid_column": null,
            "overflow_y": null,
            "overflow_x": null,
            "grid_auto_flow": null,
            "grid_area": null,
            "grid_template_columns": null,
            "flex": null,
            "_model_name": "LayoutModel",
            "justify_items": null,
            "grid_row": null,
            "max_height": null,
            "align_content": null,
            "visibility": null,
            "align_self": null,
            "height": null,
            "min_height": null,
            "padding": null,
            "grid_auto_rows": null,
            "grid_gap": null,
            "max_width": null,
            "order": null,
            "_view_module_version": "1.2.0",
            "grid_template_areas": null,
            "object_position": null,
            "object_fit": null,
            "grid_auto_columns": null,
            "margin": null,
            "display": null,
            "left": null
          }
        },
        "f8fa6f546aee4c35b1a1c4ecf1a3ec52": {
          "model_module": "@jupyter-widgets/controls",
          "model_name": "HBoxModel",
          "model_module_version": "1.5.0",
          "state": {
            "_view_name": "HBoxView",
            "_dom_classes": [],
            "_model_name": "HBoxModel",
            "_view_module": "@jupyter-widgets/controls",
            "_model_module_version": "1.5.0",
            "_view_count": null,
            "_view_module_version": "1.5.0",
            "box_style": "",
            "layout": "IPY_MODEL_56555c28635941019379fdd5739da18b",
            "_model_module": "@jupyter-widgets/controls",
            "children": [
              "IPY_MODEL_82861bdd3ade407782b71081acdb580f",
              "IPY_MODEL_6d1e340b93bc43e895b026440712ab7c",
              "IPY_MODEL_1371285e6cfc498690a0db4a6161bf0b"
            ]
          }
        },
        "56555c28635941019379fdd5739da18b": {
          "model_module": "@jupyter-widgets/base",
          "model_name": "LayoutModel",
          "model_module_version": "1.2.0",
          "state": {
            "_view_name": "LayoutView",
            "grid_template_rows": null,
            "right": null,
            "justify_content": null,
            "_view_module": "@jupyter-widgets/base",
            "overflow": null,
            "_model_module_version": "1.2.0",
            "_view_count": null,
            "flex_flow": null,
            "width": null,
            "min_width": null,
            "border": null,
            "align_items": null,
            "bottom": null,
            "_model_module": "@jupyter-widgets/base",
            "top": null,
            "grid_column": null,
            "overflow_y": null,
            "overflow_x": null,
            "grid_auto_flow": null,
            "grid_area": null,
            "grid_template_columns": null,
            "flex": null,
            "_model_name": "LayoutModel",
            "justify_items": null,
            "grid_row": null,
            "max_height": null,
            "align_content": null,
            "visibility": null,
            "align_self": null,
            "height": null,
            "min_height": null,
            "padding": null,
            "grid_auto_rows": null,
            "grid_gap": null,
            "max_width": null,
            "order": null,
            "_view_module_version": "1.2.0",
            "grid_template_areas": null,
            "object_position": null,
            "object_fit": null,
            "grid_auto_columns": null,
            "margin": null,
            "display": null,
            "left": null
          }
        },
        "82861bdd3ade407782b71081acdb580f": {
          "model_module": "@jupyter-widgets/controls",
          "model_name": "HTMLModel",
          "model_module_version": "1.5.0",
          "state": {
            "_view_name": "HTMLView",
            "style": "IPY_MODEL_23bc722489a1462a92646521ea203795",
            "_dom_classes": [],
            "description": "",
            "_model_name": "HTMLModel",
            "placeholder": "​",
            "_view_module": "@jupyter-widgets/controls",
            "_model_module_version": "1.5.0",
            "value": "Downloading: 100%",
            "_view_count": null,
            "_view_module_version": "1.5.0",
            "description_tooltip": null,
            "_model_module": "@jupyter-widgets/controls",
            "layout": "IPY_MODEL_2942d70930e64a67884d44849c60bafe"
          }
        },
        "6d1e340b93bc43e895b026440712ab7c": {
          "model_module": "@jupyter-widgets/controls",
          "model_name": "FloatProgressModel",
          "model_module_version": "1.5.0",
          "state": {
            "_view_name": "ProgressView",
            "style": "IPY_MODEL_614860cf9021415682e005a7d1809e1c",
            "_dom_classes": [],
            "description": "",
            "_model_name": "FloatProgressModel",
            "bar_style": "success",
            "max": 213450,
            "_view_module": "@jupyter-widgets/controls",
            "_model_module_version": "1.5.0",
            "value": 213450,
            "_view_count": null,
            "_view_module_version": "1.5.0",
            "orientation": "horizontal",
            "min": 0,
            "description_tooltip": null,
            "_model_module": "@jupyter-widgets/controls",
            "layout": "IPY_MODEL_6ac3e67cd1624a378f04bb8b556b5b6f"
          }
        },
        "1371285e6cfc498690a0db4a6161bf0b": {
          "model_module": "@jupyter-widgets/controls",
          "model_name": "HTMLModel",
          "model_module_version": "1.5.0",
          "state": {
            "_view_name": "HTMLView",
            "style": "IPY_MODEL_f0d8c1ba29424c87a489ca2e00ee7dcd",
            "_dom_classes": [],
            "description": "",
            "_model_name": "HTMLModel",
            "placeholder": "​",
            "_view_module": "@jupyter-widgets/controls",
            "_model_module_version": "1.5.0",
            "value": " 213k/213k [00:00&lt;00:00, 615kB/s]",
            "_view_count": null,
            "_view_module_version": "1.5.0",
            "description_tooltip": null,
            "_model_module": "@jupyter-widgets/controls",
            "layout": "IPY_MODEL_f42b6eb2b7834aa4ae2e8d46ef3ebe29"
          }
        },
        "23bc722489a1462a92646521ea203795": {
          "model_module": "@jupyter-widgets/controls",
          "model_name": "DescriptionStyleModel",
          "model_module_version": "1.5.0",
          "state": {
            "_view_name": "StyleView",
            "_model_name": "DescriptionStyleModel",
            "description_width": "",
            "_view_module": "@jupyter-widgets/base",
            "_model_module_version": "1.5.0",
            "_view_count": null,
            "_view_module_version": "1.2.0",
            "_model_module": "@jupyter-widgets/controls"
          }
        },
        "2942d70930e64a67884d44849c60bafe": {
          "model_module": "@jupyter-widgets/base",
          "model_name": "LayoutModel",
          "model_module_version": "1.2.0",
          "state": {
            "_view_name": "LayoutView",
            "grid_template_rows": null,
            "right": null,
            "justify_content": null,
            "_view_module": "@jupyter-widgets/base",
            "overflow": null,
            "_model_module_version": "1.2.0",
            "_view_count": null,
            "flex_flow": null,
            "width": null,
            "min_width": null,
            "border": null,
            "align_items": null,
            "bottom": null,
            "_model_module": "@jupyter-widgets/base",
            "top": null,
            "grid_column": null,
            "overflow_y": null,
            "overflow_x": null,
            "grid_auto_flow": null,
            "grid_area": null,
            "grid_template_columns": null,
            "flex": null,
            "_model_name": "LayoutModel",
            "justify_items": null,
            "grid_row": null,
            "max_height": null,
            "align_content": null,
            "visibility": null,
            "align_self": null,
            "height": null,
            "min_height": null,
            "padding": null,
            "grid_auto_rows": null,
            "grid_gap": null,
            "max_width": null,
            "order": null,
            "_view_module_version": "1.2.0",
            "grid_template_areas": null,
            "object_position": null,
            "object_fit": null,
            "grid_auto_columns": null,
            "margin": null,
            "display": null,
            "left": null
          }
        },
        "614860cf9021415682e005a7d1809e1c": {
          "model_module": "@jupyter-widgets/controls",
          "model_name": "ProgressStyleModel",
          "model_module_version": "1.5.0",
          "state": {
            "_view_name": "StyleView",
            "_model_name": "ProgressStyleModel",
            "description_width": "",
            "_view_module": "@jupyter-widgets/base",
            "_model_module_version": "1.5.0",
            "_view_count": null,
            "_view_module_version": "1.2.0",
            "bar_color": null,
            "_model_module": "@jupyter-widgets/controls"
          }
        },
        "6ac3e67cd1624a378f04bb8b556b5b6f": {
          "model_module": "@jupyter-widgets/base",
          "model_name": "LayoutModel",
          "model_module_version": "1.2.0",
          "state": {
            "_view_name": "LayoutView",
            "grid_template_rows": null,
            "right": null,
            "justify_content": null,
            "_view_module": "@jupyter-widgets/base",
            "overflow": null,
            "_model_module_version": "1.2.0",
            "_view_count": null,
            "flex_flow": null,
            "width": null,
            "min_width": null,
            "border": null,
            "align_items": null,
            "bottom": null,
            "_model_module": "@jupyter-widgets/base",
            "top": null,
            "grid_column": null,
            "overflow_y": null,
            "overflow_x": null,
            "grid_auto_flow": null,
            "grid_area": null,
            "grid_template_columns": null,
            "flex": null,
            "_model_name": "LayoutModel",
            "justify_items": null,
            "grid_row": null,
            "max_height": null,
            "align_content": null,
            "visibility": null,
            "align_self": null,
            "height": null,
            "min_height": null,
            "padding": null,
            "grid_auto_rows": null,
            "grid_gap": null,
            "max_width": null,
            "order": null,
            "_view_module_version": "1.2.0",
            "grid_template_areas": null,
            "object_position": null,
            "object_fit": null,
            "grid_auto_columns": null,
            "margin": null,
            "display": null,
            "left": null
          }
        },
        "f0d8c1ba29424c87a489ca2e00ee7dcd": {
          "model_module": "@jupyter-widgets/controls",
          "model_name": "DescriptionStyleModel",
          "model_module_version": "1.5.0",
          "state": {
            "_view_name": "StyleView",
            "_model_name": "DescriptionStyleModel",
            "description_width": "",
            "_view_module": "@jupyter-widgets/base",
            "_model_module_version": "1.5.0",
            "_view_count": null,
            "_view_module_version": "1.2.0",
            "_model_module": "@jupyter-widgets/controls"
          }
        },
        "f42b6eb2b7834aa4ae2e8d46ef3ebe29": {
          "model_module": "@jupyter-widgets/base",
          "model_name": "LayoutModel",
          "model_module_version": "1.2.0",
          "state": {
            "_view_name": "LayoutView",
            "grid_template_rows": null,
            "right": null,
            "justify_content": null,
            "_view_module": "@jupyter-widgets/base",
            "overflow": null,
            "_model_module_version": "1.2.0",
            "_view_count": null,
            "flex_flow": null,
            "width": null,
            "min_width": null,
            "border": null,
            "align_items": null,
            "bottom": null,
            "_model_module": "@jupyter-widgets/base",
            "top": null,
            "grid_column": null,
            "overflow_y": null,
            "overflow_x": null,
            "grid_auto_flow": null,
            "grid_area": null,
            "grid_template_columns": null,
            "flex": null,
            "_model_name": "LayoutModel",
            "justify_items": null,
            "grid_row": null,
            "max_height": null,
            "align_content": null,
            "visibility": null,
            "align_self": null,
            "height": null,
            "min_height": null,
            "padding": null,
            "grid_auto_rows": null,
            "grid_gap": null,
            "max_width": null,
            "order": null,
            "_view_module_version": "1.2.0",
            "grid_template_areas": null,
            "object_position": null,
            "object_fit": null,
            "grid_auto_columns": null,
            "margin": null,
            "display": null,
            "left": null
          }
        },
        "8eece31fb32e4c64a7c8ec6b874f5f1b": {
          "model_module": "@jupyter-widgets/controls",
          "model_name": "HBoxModel",
          "model_module_version": "1.5.0",
          "state": {
            "_view_name": "HBoxView",
            "_dom_classes": [],
            "_model_name": "HBoxModel",
            "_view_module": "@jupyter-widgets/controls",
            "_model_module_version": "1.5.0",
            "_view_count": null,
            "_view_module_version": "1.5.0",
            "box_style": "",
            "layout": "IPY_MODEL_133d07b3d9c24f66bfc4165bba98cec6",
            "_model_module": "@jupyter-widgets/controls",
            "children": [
              "IPY_MODEL_faadf54e0ab547d3ab03230c81e1237d",
              "IPY_MODEL_5dbb18e2a4854e4cac4498a099ed68e9",
              "IPY_MODEL_de7d7f3233044903aaabf4fca993cc76"
            ]
          }
        },
        "133d07b3d9c24f66bfc4165bba98cec6": {
          "model_module": "@jupyter-widgets/base",
          "model_name": "LayoutModel",
          "model_module_version": "1.2.0",
          "state": {
            "_view_name": "LayoutView",
            "grid_template_rows": null,
            "right": null,
            "justify_content": null,
            "_view_module": "@jupyter-widgets/base",
            "overflow": null,
            "_model_module_version": "1.2.0",
            "_view_count": null,
            "flex_flow": null,
            "width": null,
            "min_width": null,
            "border": null,
            "align_items": null,
            "bottom": null,
            "_model_module": "@jupyter-widgets/base",
            "top": null,
            "grid_column": null,
            "overflow_y": null,
            "overflow_x": null,
            "grid_auto_flow": null,
            "grid_area": null,
            "grid_template_columns": null,
            "flex": null,
            "_model_name": "LayoutModel",
            "justify_items": null,
            "grid_row": null,
            "max_height": null,
            "align_content": null,
            "visibility": null,
            "align_self": null,
            "height": null,
            "min_height": null,
            "padding": null,
            "grid_auto_rows": null,
            "grid_gap": null,
            "max_width": null,
            "order": null,
            "_view_module_version": "1.2.0",
            "grid_template_areas": null,
            "object_position": null,
            "object_fit": null,
            "grid_auto_columns": null,
            "margin": null,
            "display": null,
            "left": null
          }
        },
        "faadf54e0ab547d3ab03230c81e1237d": {
          "model_module": "@jupyter-widgets/controls",
          "model_name": "HTMLModel",
          "model_module_version": "1.5.0",
          "state": {
            "_view_name": "HTMLView",
            "style": "IPY_MODEL_b19c36e4fd6144688d5fc15d30e52d2b",
            "_dom_classes": [],
            "description": "",
            "_model_name": "HTMLModel",
            "placeholder": "​",
            "_view_module": "@jupyter-widgets/controls",
            "_model_module_version": "1.5.0",
            "value": "Downloading: 100%",
            "_view_count": null,
            "_view_module_version": "1.5.0",
            "description_tooltip": null,
            "_model_module": "@jupyter-widgets/controls",
            "layout": "IPY_MODEL_b9b7ae9ee2a346a9bddb898c808c00bb"
          }
        },
        "5dbb18e2a4854e4cac4498a099ed68e9": {
          "model_module": "@jupyter-widgets/controls",
          "model_name": "FloatProgressModel",
          "model_module_version": "1.5.0",
          "state": {
            "_view_name": "ProgressView",
            "style": "IPY_MODEL_7267a94d28da45708868a5b653aa378f",
            "_dom_classes": [],
            "description": "",
            "_model_name": "FloatProgressModel",
            "bar_style": "success",
            "max": 354041576,
            "_view_module": "@jupyter-widgets/controls",
            "_model_module_version": "1.5.0",
            "value": 354041576,
            "_view_count": null,
            "_view_module_version": "1.5.0",
            "orientation": "horizontal",
            "min": 0,
            "description_tooltip": null,
            "_model_module": "@jupyter-widgets/controls",
            "layout": "IPY_MODEL_8fceec9d341d424b8f10fa049f6ac1d8"
          }
        },
        "de7d7f3233044903aaabf4fca993cc76": {
          "model_module": "@jupyter-widgets/controls",
          "model_name": "HTMLModel",
          "model_module_version": "1.5.0",
          "state": {
            "_view_name": "HTMLView",
            "style": "IPY_MODEL_935ed0058d8145858feabb3dfaf5a8b8",
            "_dom_classes": [],
            "description": "",
            "_model_name": "HTMLModel",
            "placeholder": "​",
            "_view_module": "@jupyter-widgets/controls",
            "_model_module_version": "1.5.0",
            "value": " 354M/354M [00:09&lt;00:00, 38.1MB/s]",
            "_view_count": null,
            "_view_module_version": "1.5.0",
            "description_tooltip": null,
            "_model_module": "@jupyter-widgets/controls",
            "layout": "IPY_MODEL_13db5b4a94644bc486a34656bf64c659"
          }
        },
        "b19c36e4fd6144688d5fc15d30e52d2b": {
          "model_module": "@jupyter-widgets/controls",
          "model_name": "DescriptionStyleModel",
          "model_module_version": "1.5.0",
          "state": {
            "_view_name": "StyleView",
            "_model_name": "DescriptionStyleModel",
            "description_width": "",
            "_view_module": "@jupyter-widgets/base",
            "_model_module_version": "1.5.0",
            "_view_count": null,
            "_view_module_version": "1.2.0",
            "_model_module": "@jupyter-widgets/controls"
          }
        },
        "b9b7ae9ee2a346a9bddb898c808c00bb": {
          "model_module": "@jupyter-widgets/base",
          "model_name": "LayoutModel",
          "model_module_version": "1.2.0",
          "state": {
            "_view_name": "LayoutView",
            "grid_template_rows": null,
            "right": null,
            "justify_content": null,
            "_view_module": "@jupyter-widgets/base",
            "overflow": null,
            "_model_module_version": "1.2.0",
            "_view_count": null,
            "flex_flow": null,
            "width": null,
            "min_width": null,
            "border": null,
            "align_items": null,
            "bottom": null,
            "_model_module": "@jupyter-widgets/base",
            "top": null,
            "grid_column": null,
            "overflow_y": null,
            "overflow_x": null,
            "grid_auto_flow": null,
            "grid_area": null,
            "grid_template_columns": null,
            "flex": null,
            "_model_name": "LayoutModel",
            "justify_items": null,
            "grid_row": null,
            "max_height": null,
            "align_content": null,
            "visibility": null,
            "align_self": null,
            "height": null,
            "min_height": null,
            "padding": null,
            "grid_auto_rows": null,
            "grid_gap": null,
            "max_width": null,
            "order": null,
            "_view_module_version": "1.2.0",
            "grid_template_areas": null,
            "object_position": null,
            "object_fit": null,
            "grid_auto_columns": null,
            "margin": null,
            "display": null,
            "left": null
          }
        },
        "7267a94d28da45708868a5b653aa378f": {
          "model_module": "@jupyter-widgets/controls",
          "model_name": "ProgressStyleModel",
          "model_module_version": "1.5.0",
          "state": {
            "_view_name": "StyleView",
            "_model_name": "ProgressStyleModel",
            "description_width": "",
            "_view_module": "@jupyter-widgets/base",
            "_model_module_version": "1.5.0",
            "_view_count": null,
            "_view_module_version": "1.2.0",
            "bar_color": null,
            "_model_module": "@jupyter-widgets/controls"
          }
        },
        "8fceec9d341d424b8f10fa049f6ac1d8": {
          "model_module": "@jupyter-widgets/base",
          "model_name": "LayoutModel",
          "model_module_version": "1.2.0",
          "state": {
            "_view_name": "LayoutView",
            "grid_template_rows": null,
            "right": null,
            "justify_content": null,
            "_view_module": "@jupyter-widgets/base",
            "overflow": null,
            "_model_module_version": "1.2.0",
            "_view_count": null,
            "flex_flow": null,
            "width": null,
            "min_width": null,
            "border": null,
            "align_items": null,
            "bottom": null,
            "_model_module": "@jupyter-widgets/base",
            "top": null,
            "grid_column": null,
            "overflow_y": null,
            "overflow_x": null,
            "grid_auto_flow": null,
            "grid_area": null,
            "grid_template_columns": null,
            "flex": null,
            "_model_name": "LayoutModel",
            "justify_items": null,
            "grid_row": null,
            "max_height": null,
            "align_content": null,
            "visibility": null,
            "align_self": null,
            "height": null,
            "min_height": null,
            "padding": null,
            "grid_auto_rows": null,
            "grid_gap": null,
            "max_width": null,
            "order": null,
            "_view_module_version": "1.2.0",
            "grid_template_areas": null,
            "object_position": null,
            "object_fit": null,
            "grid_auto_columns": null,
            "margin": null,
            "display": null,
            "left": null
          }
        },
        "935ed0058d8145858feabb3dfaf5a8b8": {
          "model_module": "@jupyter-widgets/controls",
          "model_name": "DescriptionStyleModel",
          "model_module_version": "1.5.0",
          "state": {
            "_view_name": "StyleView",
            "_model_name": "DescriptionStyleModel",
            "description_width": "",
            "_view_module": "@jupyter-widgets/base",
            "_model_module_version": "1.5.0",
            "_view_count": null,
            "_view_module_version": "1.2.0",
            "_model_module": "@jupyter-widgets/controls"
          }
        },
        "13db5b4a94644bc486a34656bf64c659": {
          "model_module": "@jupyter-widgets/base",
          "model_name": "LayoutModel",
          "model_module_version": "1.2.0",
          "state": {
            "_view_name": "LayoutView",
            "grid_template_rows": null,
            "right": null,
            "justify_content": null,
            "_view_module": "@jupyter-widgets/base",
            "overflow": null,
            "_model_module_version": "1.2.0",
            "_view_count": null,
            "flex_flow": null,
            "width": null,
            "min_width": null,
            "border": null,
            "align_items": null,
            "bottom": null,
            "_model_module": "@jupyter-widgets/base",
            "top": null,
            "grid_column": null,
            "overflow_y": null,
            "overflow_x": null,
            "grid_auto_flow": null,
            "grid_area": null,
            "grid_template_columns": null,
            "flex": null,
            "_model_name": "LayoutModel",
            "justify_items": null,
            "grid_row": null,
            "max_height": null,
            "align_content": null,
            "visibility": null,
            "align_self": null,
            "height": null,
            "min_height": null,
            "padding": null,
            "grid_auto_rows": null,
            "grid_gap": null,
            "max_width": null,
            "order": null,
            "_view_module_version": "1.2.0",
            "grid_template_areas": null,
            "object_position": null,
            "object_fit": null,
            "grid_auto_columns": null,
            "margin": null,
            "display": null,
            "left": null
          }
        }
      }
    }
  },
  "cells": [
    {
      "cell_type": "markdown",
      "metadata": {
        "id": "VNX6LQkIQQFb"
      },
      "source": [
        "# Library"
      ]
    },
    {
      "cell_type": "code",
      "metadata": {
        "colab": {
          "base_uri": "https://localhost:8080/"
        },
        "id": "-pp9HwveLqyZ",
        "outputId": "bb4a2206-cbcb-4b25-d6bd-09aab2f982a1"
      },
      "source": [
        "pip install vncorenlp"
      ],
      "execution_count": null,
      "outputs": [
        {
          "output_type": "stream",
          "name": "stdout",
          "text": [
            "Collecting vncorenlp\n",
            "  Downloading vncorenlp-1.0.3.tar.gz (2.6 MB)\n",
            "\u001b[K     |████████████████████████████████| 2.6 MB 8.3 MB/s \n",
            "\u001b[?25hRequirement already satisfied: requests in /usr/local/lib/python3.7/dist-packages (from vncorenlp) (2.23.0)\n",
            "Requirement already satisfied: certifi>=2017.4.17 in /usr/local/lib/python3.7/dist-packages (from requests->vncorenlp) (2021.10.8)\n",
            "Requirement already satisfied: chardet<4,>=3.0.2 in /usr/local/lib/python3.7/dist-packages (from requests->vncorenlp) (3.0.4)\n",
            "Requirement already satisfied: idna<3,>=2.5 in /usr/local/lib/python3.7/dist-packages (from requests->vncorenlp) (2.10)\n",
            "Requirement already satisfied: urllib3!=1.25.0,!=1.25.1,<1.26,>=1.21.1 in /usr/local/lib/python3.7/dist-packages (from requests->vncorenlp) (1.24.3)\n",
            "Building wheels for collected packages: vncorenlp\n",
            "  Building wheel for vncorenlp (setup.py) ... \u001b[?25l\u001b[?25hdone\n",
            "  Created wheel for vncorenlp: filename=vncorenlp-1.0.3-py3-none-any.whl size=2645951 sha256=5bde2c558e83fad5a2547fa1c5dfce8989fa20ef88c38ee3aed2e71e02389e06\n",
            "  Stored in directory: /root/.cache/pip/wheels/0c/d8/f2/d28d97379b4f6479bf51247c8dfd57fa00932fa7a74b6aab29\n",
            "Successfully built vncorenlp\n",
            "Installing collected packages: vncorenlp\n",
            "Successfully installed vncorenlp-1.0.3\n"
          ]
        }
      ]
    },
    {
      "cell_type": "code",
      "metadata": {
        "colab": {
          "base_uri": "https://localhost:8080/"
        },
        "id": "R2FSYCyrLsOG",
        "outputId": "ba1c856b-b3c3-48c9-84d1-85945c0348c2"
      },
      "source": [
        "!mkdir -p vncorenlp/models/wordsegmenter\n",
        "!wget https://raw.githubusercontent.com/vncorenlp/VnCoreNLP/master/VnCoreNLP-1.1.1.jar\n",
        "!wget https://raw.githubusercontent.com/vncorenlp/VnCoreNLP/master/models/wordsegmenter/vi-vocab\n",
        "!wget https://raw.githubusercontent.com/vncorenlp/VnCoreNLP/master/models/wordsegmenter/wordsegmenter.rdr\n",
        "!mv VnCoreNLP-1.1.1.jar vncorenlp/\n",
        "!mv vi-vocab vncorenlp/models/wordsegmenter/\n",
        "!mv wordsegmenter.rdr vncorenlp/models/wordsegmenter/"
      ],
      "execution_count": null,
      "outputs": [
        {
          "output_type": "stream",
          "name": "stdout",
          "text": [
            "--2021-11-15 03:09:09--  https://raw.githubusercontent.com/vncorenlp/VnCoreNLP/master/VnCoreNLP-1.1.1.jar\n",
            "Resolving raw.githubusercontent.com (raw.githubusercontent.com)... 185.199.108.133, 185.199.109.133, 185.199.111.133, ...\n",
            "Connecting to raw.githubusercontent.com (raw.githubusercontent.com)|185.199.108.133|:443... connected.\n",
            "HTTP request sent, awaiting response... 200 OK\n",
            "Length: 27412575 (26M) [application/octet-stream]\n",
            "Saving to: ‘VnCoreNLP-1.1.1.jar’\n",
            "\n",
            "VnCoreNLP-1.1.1.jar 100%[===================>]  26.14M   170MB/s    in 0.2s    \n",
            "\n",
            "2021-11-15 03:09:10 (170 MB/s) - ‘VnCoreNLP-1.1.1.jar’ saved [27412575/27412575]\n",
            "\n",
            "--2021-11-15 03:09:10--  https://raw.githubusercontent.com/vncorenlp/VnCoreNLP/master/models/wordsegmenter/vi-vocab\n",
            "Resolving raw.githubusercontent.com (raw.githubusercontent.com)... 185.199.108.133, 185.199.109.133, 185.199.110.133, ...\n",
            "Connecting to raw.githubusercontent.com (raw.githubusercontent.com)|185.199.108.133|:443... connected.\n",
            "HTTP request sent, awaiting response... 200 OK\n",
            "Length: 526544 (514K) [application/octet-stream]\n",
            "Saving to: ‘vi-vocab’\n",
            "\n",
            "vi-vocab            100%[===================>] 514.20K  --.-KB/s    in 0.02s   \n",
            "\n",
            "2021-11-15 03:09:10 (20.2 MB/s) - ‘vi-vocab’ saved [526544/526544]\n",
            "\n",
            "--2021-11-15 03:09:10--  https://raw.githubusercontent.com/vncorenlp/VnCoreNLP/master/models/wordsegmenter/wordsegmenter.rdr\n",
            "Resolving raw.githubusercontent.com (raw.githubusercontent.com)... 185.199.108.133, 185.199.109.133, 185.199.110.133, ...\n",
            "Connecting to raw.githubusercontent.com (raw.githubusercontent.com)|185.199.108.133|:443... connected.\n",
            "HTTP request sent, awaiting response... 200 OK\n",
            "Length: 128508 (125K) [text/plain]\n",
            "Saving to: ‘wordsegmenter.rdr’\n",
            "\n",
            "wordsegmenter.rdr   100%[===================>] 125.50K  --.-KB/s    in 0.01s   \n",
            "\n",
            "2021-11-15 03:09:11 (9.92 MB/s) - ‘wordsegmenter.rdr’ saved [128508/128508]\n",
            "\n"
          ]
        }
      ]
    },
    {
      "cell_type": "code",
      "metadata": {
        "colab": {
          "base_uri": "https://localhost:8080/"
        },
        "id": "ml1iNoYIPvuG",
        "outputId": "d5389478-6357-4e19-a822-9bb593533fe4"
      },
      "source": [
        "pip install transformers==4.3.0"
      ],
      "execution_count": null,
      "outputs": [
        {
          "output_type": "stream",
          "name": "stdout",
          "text": [
            "Collecting transformers==4.3.0\n",
            "  Downloading transformers-4.3.0-py3-none-any.whl (1.8 MB)\n",
            "\u001b[K     |████████████████████████████████| 1.8 MB 7.4 MB/s \n",
            "\u001b[?25hRequirement already satisfied: packaging in /usr/local/lib/python3.7/dist-packages (from transformers==4.3.0) (21.2)\n",
            "Collecting sacremoses\n",
            "  Downloading sacremoses-0.0.46-py3-none-any.whl (895 kB)\n",
            "\u001b[K     |████████████████████████████████| 895 kB 55.6 MB/s \n",
            "\u001b[?25hRequirement already satisfied: numpy>=1.17 in /usr/local/lib/python3.7/dist-packages (from transformers==4.3.0) (1.19.5)\n",
            "Collecting tokenizers<0.11,>=0.10.1\n",
            "  Downloading tokenizers-0.10.3-cp37-cp37m-manylinux_2_5_x86_64.manylinux1_x86_64.manylinux_2_12_x86_64.manylinux2010_x86_64.whl (3.3 MB)\n",
            "\u001b[K     |████████████████████████████████| 3.3 MB 34.1 MB/s \n",
            "\u001b[?25hRequirement already satisfied: regex!=2019.12.17 in /usr/local/lib/python3.7/dist-packages (from transformers==4.3.0) (2019.12.20)\n",
            "Requirement already satisfied: importlib-metadata in /usr/local/lib/python3.7/dist-packages (from transformers==4.3.0) (4.8.2)\n",
            "Requirement already satisfied: filelock in /usr/local/lib/python3.7/dist-packages (from transformers==4.3.0) (3.3.2)\n",
            "Requirement already satisfied: tqdm>=4.27 in /usr/local/lib/python3.7/dist-packages (from transformers==4.3.0) (4.62.3)\n",
            "Requirement already satisfied: requests in /usr/local/lib/python3.7/dist-packages (from transformers==4.3.0) (2.23.0)\n",
            "Requirement already satisfied: zipp>=0.5 in /usr/local/lib/python3.7/dist-packages (from importlib-metadata->transformers==4.3.0) (3.6.0)\n",
            "Requirement already satisfied: typing-extensions>=3.6.4 in /usr/local/lib/python3.7/dist-packages (from importlib-metadata->transformers==4.3.0) (3.10.0.2)\n",
            "Requirement already satisfied: pyparsing<3,>=2.0.2 in /usr/local/lib/python3.7/dist-packages (from packaging->transformers==4.3.0) (2.4.7)\n",
            "Requirement already satisfied: urllib3!=1.25.0,!=1.25.1,<1.26,>=1.21.1 in /usr/local/lib/python3.7/dist-packages (from requests->transformers==4.3.0) (1.24.3)\n",
            "Requirement already satisfied: idna<3,>=2.5 in /usr/local/lib/python3.7/dist-packages (from requests->transformers==4.3.0) (2.10)\n",
            "Requirement already satisfied: chardet<4,>=3.0.2 in /usr/local/lib/python3.7/dist-packages (from requests->transformers==4.3.0) (3.0.4)\n",
            "Requirement already satisfied: certifi>=2017.4.17 in /usr/local/lib/python3.7/dist-packages (from requests->transformers==4.3.0) (2021.10.8)\n",
            "Requirement already satisfied: joblib in /usr/local/lib/python3.7/dist-packages (from sacremoses->transformers==4.3.0) (1.1.0)\n",
            "Requirement already satisfied: six in /usr/local/lib/python3.7/dist-packages (from sacremoses->transformers==4.3.0) (1.15.0)\n",
            "Requirement already satisfied: click in /usr/local/lib/python3.7/dist-packages (from sacremoses->transformers==4.3.0) (7.1.2)\n",
            "Installing collected packages: tokenizers, sacremoses, transformers\n",
            "Successfully installed sacremoses-0.0.46 tokenizers-0.10.3 transformers-4.3.0\n"
          ]
        }
      ]
    },
    {
      "cell_type": "code",
      "metadata": {
        "colab": {
          "base_uri": "https://localhost:8080/"
        },
        "id": "LAwLTet3r4k6",
        "outputId": "e3ceec33-516e-4b70-b2c7-bd88ec8f4ad5"
      },
      "source": [
        "pip install sentencepiece"
      ],
      "execution_count": null,
      "outputs": [
        {
          "output_type": "stream",
          "name": "stdout",
          "text": [
            "Collecting sentencepiece\n",
            "  Downloading sentencepiece-0.1.96-cp37-cp37m-manylinux_2_17_x86_64.manylinux2014_x86_64.whl (1.2 MB)\n",
            "\u001b[?25l\r\u001b[K     |▎                               | 10 kB 35.0 MB/s eta 0:00:01\r\u001b[K     |▌                               | 20 kB 36.1 MB/s eta 0:00:01\r\u001b[K     |▉                               | 30 kB 23.7 MB/s eta 0:00:01\r\u001b[K     |█                               | 40 kB 18.1 MB/s eta 0:00:01\r\u001b[K     |█▍                              | 51 kB 10.3 MB/s eta 0:00:01\r\u001b[K     |█▋                              | 61 kB 10.0 MB/s eta 0:00:01\r\u001b[K     |██                              | 71 kB 10.7 MB/s eta 0:00:01\r\u001b[K     |██▏                             | 81 kB 11.9 MB/s eta 0:00:01\r\u001b[K     |██▍                             | 92 kB 9.1 MB/s eta 0:00:01\r\u001b[K     |██▊                             | 102 kB 9.8 MB/s eta 0:00:01\r\u001b[K     |███                             | 112 kB 9.8 MB/s eta 0:00:01\r\u001b[K     |███▎                            | 122 kB 9.8 MB/s eta 0:00:01\r\u001b[K     |███▌                            | 133 kB 9.8 MB/s eta 0:00:01\r\u001b[K     |███▉                            | 143 kB 9.8 MB/s eta 0:00:01\r\u001b[K     |████                            | 153 kB 9.8 MB/s eta 0:00:01\r\u001b[K     |████▎                           | 163 kB 9.8 MB/s eta 0:00:01\r\u001b[K     |████▋                           | 174 kB 9.8 MB/s eta 0:00:01\r\u001b[K     |████▉                           | 184 kB 9.8 MB/s eta 0:00:01\r\u001b[K     |█████▏                          | 194 kB 9.8 MB/s eta 0:00:01\r\u001b[K     |█████▍                          | 204 kB 9.8 MB/s eta 0:00:01\r\u001b[K     |█████▊                          | 215 kB 9.8 MB/s eta 0:00:01\r\u001b[K     |██████                          | 225 kB 9.8 MB/s eta 0:00:01\r\u001b[K     |██████▏                         | 235 kB 9.8 MB/s eta 0:00:01\r\u001b[K     |██████▌                         | 245 kB 9.8 MB/s eta 0:00:01\r\u001b[K     |██████▊                         | 256 kB 9.8 MB/s eta 0:00:01\r\u001b[K     |███████                         | 266 kB 9.8 MB/s eta 0:00:01\r\u001b[K     |███████▎                        | 276 kB 9.8 MB/s eta 0:00:01\r\u001b[K     |███████▋                        | 286 kB 9.8 MB/s eta 0:00:01\r\u001b[K     |███████▉                        | 296 kB 9.8 MB/s eta 0:00:01\r\u001b[K     |████████                        | 307 kB 9.8 MB/s eta 0:00:01\r\u001b[K     |████████▍                       | 317 kB 9.8 MB/s eta 0:00:01\r\u001b[K     |████████▋                       | 327 kB 9.8 MB/s eta 0:00:01\r\u001b[K     |█████████                       | 337 kB 9.8 MB/s eta 0:00:01\r\u001b[K     |█████████▏                      | 348 kB 9.8 MB/s eta 0:00:01\r\u001b[K     |█████████▌                      | 358 kB 9.8 MB/s eta 0:00:01\r\u001b[K     |█████████▊                      | 368 kB 9.8 MB/s eta 0:00:01\r\u001b[K     |██████████                      | 378 kB 9.8 MB/s eta 0:00:01\r\u001b[K     |██████████▎                     | 389 kB 9.8 MB/s eta 0:00:01\r\u001b[K     |██████████▌                     | 399 kB 9.8 MB/s eta 0:00:01\r\u001b[K     |██████████▉                     | 409 kB 9.8 MB/s eta 0:00:01\r\u001b[K     |███████████                     | 419 kB 9.8 MB/s eta 0:00:01\r\u001b[K     |███████████▍                    | 430 kB 9.8 MB/s eta 0:00:01\r\u001b[K     |███████████▋                    | 440 kB 9.8 MB/s eta 0:00:01\r\u001b[K     |███████████▉                    | 450 kB 9.8 MB/s eta 0:00:01\r\u001b[K     |████████████▏                   | 460 kB 9.8 MB/s eta 0:00:01\r\u001b[K     |████████████▍                   | 471 kB 9.8 MB/s eta 0:00:01\r\u001b[K     |████████████▊                   | 481 kB 9.8 MB/s eta 0:00:01\r\u001b[K     |█████████████                   | 491 kB 9.8 MB/s eta 0:00:01\r\u001b[K     |█████████████▎                  | 501 kB 9.8 MB/s eta 0:00:01\r\u001b[K     |█████████████▌                  | 512 kB 9.8 MB/s eta 0:00:01\r\u001b[K     |█████████████▊                  | 522 kB 9.8 MB/s eta 0:00:01\r\u001b[K     |██████████████                  | 532 kB 9.8 MB/s eta 0:00:01\r\u001b[K     |██████████████▎                 | 542 kB 9.8 MB/s eta 0:00:01\r\u001b[K     |██████████████▋                 | 552 kB 9.8 MB/s eta 0:00:01\r\u001b[K     |██████████████▉                 | 563 kB 9.8 MB/s eta 0:00:01\r\u001b[K     |███████████████▏                | 573 kB 9.8 MB/s eta 0:00:01\r\u001b[K     |███████████████▍                | 583 kB 9.8 MB/s eta 0:00:01\r\u001b[K     |███████████████▋                | 593 kB 9.8 MB/s eta 0:00:01\r\u001b[K     |████████████████                | 604 kB 9.8 MB/s eta 0:00:01\r\u001b[K     |████████████████▏               | 614 kB 9.8 MB/s eta 0:00:01\r\u001b[K     |████████████████▌               | 624 kB 9.8 MB/s eta 0:00:01\r\u001b[K     |████████████████▊               | 634 kB 9.8 MB/s eta 0:00:01\r\u001b[K     |█████████████████               | 645 kB 9.8 MB/s eta 0:00:01\r\u001b[K     |█████████████████▎              | 655 kB 9.8 MB/s eta 0:00:01\r\u001b[K     |█████████████████▌              | 665 kB 9.8 MB/s eta 0:00:01\r\u001b[K     |█████████████████▉              | 675 kB 9.8 MB/s eta 0:00:01\r\u001b[K     |██████████████████              | 686 kB 9.8 MB/s eta 0:00:01\r\u001b[K     |██████████████████▍             | 696 kB 9.8 MB/s eta 0:00:01\r\u001b[K     |██████████████████▋             | 706 kB 9.8 MB/s eta 0:00:01\r\u001b[K     |███████████████████             | 716 kB 9.8 MB/s eta 0:00:01\r\u001b[K     |███████████████████▏            | 727 kB 9.8 MB/s eta 0:00:01\r\u001b[K     |███████████████████▍            | 737 kB 9.8 MB/s eta 0:00:01\r\u001b[K     |███████████████████▊            | 747 kB 9.8 MB/s eta 0:00:01\r\u001b[K     |████████████████████            | 757 kB 9.8 MB/s eta 0:00:01\r\u001b[K     |████████████████████▎           | 768 kB 9.8 MB/s eta 0:00:01\r\u001b[K     |████████████████████▌           | 778 kB 9.8 MB/s eta 0:00:01\r\u001b[K     |████████████████████▉           | 788 kB 9.8 MB/s eta 0:00:01\r\u001b[K     |█████████████████████           | 798 kB 9.8 MB/s eta 0:00:01\r\u001b[K     |█████████████████████▎          | 808 kB 9.8 MB/s eta 0:00:01\r\u001b[K     |█████████████████████▋          | 819 kB 9.8 MB/s eta 0:00:01\r\u001b[K     |█████████████████████▉          | 829 kB 9.8 MB/s eta 0:00:01\r\u001b[K     |██████████████████████▏         | 839 kB 9.8 MB/s eta 0:00:01\r\u001b[K     |██████████████████████▍         | 849 kB 9.8 MB/s eta 0:00:01\r\u001b[K     |██████████████████████▊         | 860 kB 9.8 MB/s eta 0:00:01\r\u001b[K     |███████████████████████         | 870 kB 9.8 MB/s eta 0:00:01\r\u001b[K     |███████████████████████▏        | 880 kB 9.8 MB/s eta 0:00:01\r\u001b[K     |███████████████████████▌        | 890 kB 9.8 MB/s eta 0:00:01\r\u001b[K     |███████████████████████▊        | 901 kB 9.8 MB/s eta 0:00:01\r\u001b[K     |████████████████████████        | 911 kB 9.8 MB/s eta 0:00:01\r\u001b[K     |████████████████████████▎       | 921 kB 9.8 MB/s eta 0:00:01\r\u001b[K     |████████████████████████▋       | 931 kB 9.8 MB/s eta 0:00:01\r\u001b[K     |████████████████████████▉       | 942 kB 9.8 MB/s eta 0:00:01\r\u001b[K     |█████████████████████████       | 952 kB 9.8 MB/s eta 0:00:01\r\u001b[K     |█████████████████████████▍      | 962 kB 9.8 MB/s eta 0:00:01\r\u001b[K     |█████████████████████████▋      | 972 kB 9.8 MB/s eta 0:00:01\r\u001b[K     |██████████████████████████      | 983 kB 9.8 MB/s eta 0:00:01\r\u001b[K     |██████████████████████████▏     | 993 kB 9.8 MB/s eta 0:00:01\r\u001b[K     |██████████████████████████▌     | 1.0 MB 9.8 MB/s eta 0:00:01\r\u001b[K     |██████████████████████████▊     | 1.0 MB 9.8 MB/s eta 0:00:01\r\u001b[K     |███████████████████████████     | 1.0 MB 9.8 MB/s eta 0:00:01\r\u001b[K     |███████████████████████████▎    | 1.0 MB 9.8 MB/s eta 0:00:01\r\u001b[K     |███████████████████████████▌    | 1.0 MB 9.8 MB/s eta 0:00:01\r\u001b[K     |███████████████████████████▉    | 1.1 MB 9.8 MB/s eta 0:00:01\r\u001b[K     |████████████████████████████    | 1.1 MB 9.8 MB/s eta 0:00:01\r\u001b[K     |████████████████████████████▍   | 1.1 MB 9.8 MB/s eta 0:00:01\r\u001b[K     |████████████████████████████▋   | 1.1 MB 9.8 MB/s eta 0:00:01\r\u001b[K     |████████████████████████████▉   | 1.1 MB 9.8 MB/s eta 0:00:01\r\u001b[K     |█████████████████████████████▏  | 1.1 MB 9.8 MB/s eta 0:00:01\r\u001b[K     |█████████████████████████████▍  | 1.1 MB 9.8 MB/s eta 0:00:01\r\u001b[K     |█████████████████████████████▊  | 1.1 MB 9.8 MB/s eta 0:00:01\r\u001b[K     |██████████████████████████████  | 1.1 MB 9.8 MB/s eta 0:00:01\r\u001b[K     |██████████████████████████████▎ | 1.1 MB 9.8 MB/s eta 0:00:01\r\u001b[K     |██████████████████████████████▌ | 1.2 MB 9.8 MB/s eta 0:00:01\r\u001b[K     |██████████████████████████████▊ | 1.2 MB 9.8 MB/s eta 0:00:01\r\u001b[K     |███████████████████████████████ | 1.2 MB 9.8 MB/s eta 0:00:01\r\u001b[K     |███████████████████████████████▎| 1.2 MB 9.8 MB/s eta 0:00:01\r\u001b[K     |███████████████████████████████▋| 1.2 MB 9.8 MB/s eta 0:00:01\r\u001b[K     |███████████████████████████████▉| 1.2 MB 9.8 MB/s eta 0:00:01\r\u001b[K     |████████████████████████████████| 1.2 MB 9.8 MB/s \n",
            "\u001b[?25hInstalling collected packages: sentencepiece\n",
            "Successfully installed sentencepiece-0.1.96\n"
          ]
        }
      ]
    },
    {
      "cell_type": "markdown",
      "metadata": {
        "id": "VcmFAqH1bOFL"
      },
      "source": [
        "# Hyper parameters"
      ]
    },
    {
      "cell_type": "code",
      "metadata": {
        "id": "kDRfXs9vbQMd"
      },
      "source": [
        "MODEL = 'distilbert-base-cased'     # Danh sách pre-trained model ở đây: https://huggingface.co/models\n",
        "MAX_LEN = 200\n",
        "BATCH_SIZE = 32\n",
        "EPOCH = 30\n",
        "TOKENIZER = 'none'   # Để none nếu không dùng tách từ "
      ],
      "execution_count": null,
      "outputs": []
    },
    {
      "cell_type": "code",
      "metadata": {
        "colab": {
          "base_uri": "https://localhost:8080/"
        },
        "id": "xPXtq-Yc54pp",
        "outputId": "0e902c54-9d1d-4992-ff37-3ceab0b57c18"
      },
      "source": [
        "from google.colab import drive\n",
        "drive.mount('/content/drive')"
      ],
      "execution_count": null,
      "outputs": [
        {
          "output_type": "stream",
          "name": "stdout",
          "text": [
            "Mounted at /content/drive\n"
          ]
        }
      ]
    },
    {
      "cell_type": "markdown",
      "metadata": {
        "id": "lRZ6k0Q1QSnP"
      },
      "source": [
        "# Load data"
      ]
    },
    {
      "cell_type": "code",
      "metadata": {
        "id": "6BTvs2n39vLB"
      },
      "source": [
        "TRAIN = 'drive/MyDrive/CODE/JobPrediction/dataset/raw_data_new/train.csv'\n",
        "DEV = 'drive/MyDrive/CODE/JobPrediction/dataset/raw_data_new/dev.csv'\n",
        "TEST = 'drive/MyDrive/CODE/JobPrediction/dataset/raw_data_new/test.csv'\n",
        "\n",
        "LABEL = 'drive/MyDrive/CODE/JobPrediction/dataset/raw_data_new/labels.csv'\n",
        "\n",
        "import pandas as pd\n",
        "\n",
        "train = pd.read_csv(TRAIN)\n",
        "dev = pd.read_csv(DEV)\n",
        "test = pd.read_csv(TEST)\n",
        "\n",
        "label = pd.read_csv(LABEL)\n",
        "job_types = label['job_type'].values"
      ],
      "execution_count": null,
      "outputs": []
    },
    {
      "cell_type": "code",
      "metadata": {
        "id": "8WvqOLBQLhbA"
      },
      "source": [
        "from vncorenlp import VnCoreNLP\n",
        "import numpy as np\n",
        "import re\n",
        "\n",
        "vncorenlp = VnCoreNLP(\"vncorenlp/VnCoreNLP-1.1.1.jar\", annotators=\"wseg\", max_heap_size='-Xmx500m') \n",
        "\n",
        "def make_label(data):\n",
        "    lbl_job = []\n",
        "    for td in data['job'].values:\n",
        "        l_job_onehot = np.zeros(len(job_types))\n",
        "        \n",
        "        for i in range(0, len(job_types)):\n",
        "            if job_types[i] in td:\n",
        "                l_job_onehot[i] = 1\n",
        "        lbl_job.append(l_job_onehot)\n",
        "\n",
        "    return lbl_job\n",
        "\n",
        "\n",
        "def return_label(y):\n",
        "    lbl_job = []\n",
        "    for i in range(0, len(y)):\n",
        "        if y[i] == 1:\n",
        "            lbl_job.append(job_types[i])\n",
        "\n",
        "    return lbl_job\n",
        "\n",
        "def custom_tokenizer(text_data, tokenizer='vncorenlp'):\n",
        "    # text_data = text_data.lower()\n",
        "    if tokenizer == 'vncorenlp':\n",
        "        # return \" \".join(vncorenlp.tokenize(str(text_data))[0])\n",
        "        text = \"\"\n",
        "        lst = vncorenlp.tokenize(str(text_data))\n",
        "        for t in lst:\n",
        "            text += \" \".join(t)\n",
        "        return text\n",
        "    if tokenizer == 'none':\n",
        "        return text_data\n",
        "    return ViTokenizer.tokenize(str(text_data))\n",
        "\n",
        "def pre_process(X, y):\n",
        "    sentences = []\n",
        "    \n",
        "    for t in X:\n",
        "        t = re.sub(r\"[-()\\\"#/@;:<>{}`+=~|!?,]\", \"\", t)\n",
        "        sentences.append(custom_tokenizer(t, tokenizer=TOKENIZER))\n",
        "\n",
        "    return (sentences, y)"
      ],
      "execution_count": null,
      "outputs": []
    },
    {
      "cell_type": "code",
      "metadata": {
        "id": "HiEBy-0DQMXB"
      },
      "source": [
        "y_train = make_label(train)\n",
        "y_dev = make_label(dev)\n",
        "y_test = make_label(test)\n",
        "\n",
        "X_train = train['job_description']\n",
        "X_dev = dev['job_description']\n",
        "X_test = test['job_description']"
      ],
      "execution_count": null,
      "outputs": []
    },
    {
      "cell_type": "code",
      "metadata": {
        "id": "pFJs8S2lNz0s"
      },
      "source": [
        "X1, y1 = pre_process(X_train, y_train)\n",
        "X2, y2 = pre_process(X_dev, y_dev)\n",
        "X3, y3 = pre_process(X_test, y_test)"
      ],
      "execution_count": null,
      "outputs": []
    },
    {
      "cell_type": "markdown",
      "metadata": {
        "id": "4j_ItRqXQYV0"
      },
      "source": [
        "# Model"
      ]
    },
    {
      "cell_type": "code",
      "metadata": {
        "colab": {
          "base_uri": "https://localhost:8080/",
          "height": 81,
          "referenced_widgets": [
            "d7c5614f60d04d33b350bae987d0fb04",
            "1a2d5e31d3a447f8a1de003de31f761f",
            "b547b8e012e24935b878952b653559af",
            "06900afdaa3940a0bc736b93b5f7ee07",
            "fb7474c1799d4d548467fea037747b9d",
            "67f91890d6984bfda9665ad1e05f1c4a",
            "73e951a5409947899424457429f17323",
            "7738f0e9316949b58b42ed74eddd812c",
            "5ba5017034dc4f39aa79d58ec6de9f24",
            "0b336c6fda3b4de1b9c37d3b45ad8708",
            "1e8a886fbe4d47ac8ea49def75a34c45",
            "f8fa6f546aee4c35b1a1c4ecf1a3ec52",
            "56555c28635941019379fdd5739da18b",
            "82861bdd3ade407782b71081acdb580f",
            "6d1e340b93bc43e895b026440712ab7c",
            "1371285e6cfc498690a0db4a6161bf0b",
            "23bc722489a1462a92646521ea203795",
            "2942d70930e64a67884d44849c60bafe",
            "614860cf9021415682e005a7d1809e1c",
            "6ac3e67cd1624a378f04bb8b556b5b6f",
            "f0d8c1ba29424c87a489ca2e00ee7dcd",
            "f42b6eb2b7834aa4ae2e8d46ef3ebe29"
          ]
        },
        "id": "_iTcn0Wjjosg",
        "outputId": "755f7e32-8035-41ba-ef24-0f86983f589b"
      },
      "source": [
        "from transformers import AutoTokenizer \n",
        "\n",
        "tokenizer = AutoTokenizer.from_pretrained(MODEL, use_fast=False)\n",
        "\n",
        "train_encodings = tokenizer(X1, truncation=True, padding=True, max_length=MAX_LEN)\n",
        "dev_encodings = tokenizer(X2, truncation=True, padding=True, max_length=MAX_LEN)\n",
        "test_encodings = tokenizer(X3, truncation=True, padding=True, max_length=MAX_LEN)"
      ],
      "execution_count": null,
      "outputs": [
        {
          "output_type": "display_data",
          "data": {
            "application/vnd.jupyter.widget-view+json": {
              "model_id": "d7c5614f60d04d33b350bae987d0fb04",
              "version_minor": 0,
              "version_major": 2
            },
            "text/plain": [
              "Downloading:   0%|          | 0.00/411 [00:00<?, ?B/s]"
            ]
          },
          "metadata": {}
        },
        {
          "output_type": "display_data",
          "data": {
            "application/vnd.jupyter.widget-view+json": {
              "model_id": "f8fa6f546aee4c35b1a1c4ecf1a3ec52",
              "version_minor": 0,
              "version_major": 2
            },
            "text/plain": [
              "Downloading:   0%|          | 0.00/213k [00:00<?, ?B/s]"
            ]
          },
          "metadata": {}
        }
      ]
    },
    {
      "cell_type": "code",
      "metadata": {
        "id": "Pr-ESQjVXVHJ"
      },
      "source": [
        "import tensorflow as tf\n",
        "\n",
        "train_features = {x: tf.convert_to_tensor(train_encodings[x], dtype=tf.float32) for x in tokenizer.model_input_names}\n",
        "dev_features = {x: tf.convert_to_tensor(dev_encodings[x], dtype=tf.float32) for x in tokenizer.model_input_names}\n",
        "test_features = {x: tf.convert_to_tensor(test_encodings[x], dtype=tf.float32) for x in tokenizer.model_input_names}"
      ],
      "execution_count": null,
      "outputs": []
    },
    {
      "cell_type": "code",
      "metadata": {
        "colab": {
          "base_uri": "https://localhost:8080/",
          "height": 1000,
          "referenced_widgets": [
            "8eece31fb32e4c64a7c8ec6b874f5f1b",
            "133d07b3d9c24f66bfc4165bba98cec6",
            "faadf54e0ab547d3ab03230c81e1237d",
            "5dbb18e2a4854e4cac4498a099ed68e9",
            "de7d7f3233044903aaabf4fca993cc76",
            "b19c36e4fd6144688d5fc15d30e52d2b",
            "b9b7ae9ee2a346a9bddb898c808c00bb",
            "7267a94d28da45708868a5b653aa378f",
            "8fceec9d341d424b8f10fa049f6ac1d8",
            "935ed0058d8145858feabb3dfaf5a8b8",
            "13db5b4a94644bc486a34656bf64c659"
          ]
        },
        "id": "NTGWkLSvR5m5",
        "outputId": "c74b73c6-79eb-4ccb-b320-860a0f40f78b"
      },
      "source": [
        "from keras.layers import LSTM, Dense, Concatenate, Embedding, Bidirectional, GlobalMaxPooling1D, Dropout, Reshape, GRU, SpatialDropout1D, Conv1D, GlobalAveragePooling1D\n",
        "from keras.models import Model, Input\n",
        "import numpy as np\n",
        "\n",
        "from tensorflow.keras.optimizers import Adam\n",
        "from tensorflow.keras.initializers import Constant\n",
        "from transformers import TFAutoModelForSequenceClassification, TFBertModel\n",
        "\n",
        "from tensorflow.keras.losses import BinaryCrossentropy\n",
        "\n",
        "import tensorflow as tf\n",
        "import warnings\n",
        "warnings.filterwarnings(\"ignore\")\n",
        "\n",
        "units = 100\n",
        "\n",
        "encoder = TFBertModel.from_pretrained(MODEL)\n",
        "\n",
        "input_ids = Input(shape=(MAX_LEN,), dtype=tf.int32, name='input_ids')\n",
        "token_type_ids = Input(shape=(MAX_LEN,), dtype=tf.int32, name='token_type_ids')\n",
        "attention_mask = Input(shape=(MAX_LEN,), dtype=tf.int32, name='attention_mask')\n",
        "embedding = encoder(\n",
        "    {\n",
        "        'input_ids': input_ids, \n",
        "        # 'token_type_ids': token_type_ids,\n",
        "        'attention_mask': attention_mask\n",
        "        \n",
        "    }\n",
        ")[0]\n",
        "\n",
        "x1 = SpatialDropout1D(0.2)(embedding)\n",
        "\n",
        "x = Bidirectional(GRU(units, return_sequences = True))(x1)\n",
        "x = Conv1D(int(units/2), kernel_size = 2, padding = \"same\", kernel_initializer = \"he_uniform\")(x)\n",
        "    \n",
        "y = Bidirectional(LSTM(units, return_sequences = True))(x1)\n",
        "y = Conv1D(int(units/2), kernel_size = 2, padding = \"same\", kernel_initializer = \"he_uniform\")(y)\n",
        "    \n",
        "avg_pool1 = GlobalAveragePooling1D()(x)\n",
        "max_pool1 = GlobalMaxPooling1D()(x)\n",
        "    \n",
        "avg_pool2 = GlobalAveragePooling1D()(y)\n",
        "max_pool2 = GlobalMaxPooling1D()(y)\n",
        "    \n",
        "    \n",
        "x = Concatenate(axis=-1)([avg_pool1, max_pool1, avg_pool2, max_pool2])\n",
        "x = Dropout(0.5)(x)\n",
        "out = Dense(68, activation = \"sigmoid\")(x)\n",
        "\n",
        "# model = Model(\n",
        "#     inputs=[input_ids, token_type_ids, attention_mask],\n",
        "#     outputs=out,\n",
        "# )\n",
        "\n",
        "model = Model(\n",
        "    inputs=[input_ids, attention_mask],\n",
        "    outputs=out,\n",
        ")\n",
        "\n",
        "loss = BinaryCrossentropy(from_logits=False)\n",
        "optimizer = Adam(lr=1e-5)\n",
        "\n",
        "model.compile(optimizer=optimizer, loss=loss, metrics=['accuracy'])\n",
        "\n",
        "model.summary()"
      ],
      "execution_count": null,
      "outputs": [
        {
          "output_type": "display_data",
          "data": {
            "application/vnd.jupyter.widget-view+json": {
              "model_id": "8eece31fb32e4c64a7c8ec6b874f5f1b",
              "version_minor": 0,
              "version_major": 2
            },
            "text/plain": [
              "Downloading:   0%|          | 0.00/354M [00:00<?, ?B/s]"
            ]
          },
          "metadata": {}
        },
        {
          "output_type": "stream",
          "name": "stderr",
          "text": [
            "Some layers from the model checkpoint at distilbert-base-cased were not used when initializing TFBertModel: ['activation_13', 'vocab_transform', 'vocab_projector', 'vocab_layer_norm', 'distilbert']\n",
            "- This IS expected if you are initializing TFBertModel from the checkpoint of a model trained on another task or with another architecture (e.g. initializing a BertForSequenceClassification model from a BertForPreTraining model).\n",
            "- This IS NOT expected if you are initializing TFBertModel from the checkpoint of a model that you expect to be exactly identical (initializing a BertForSequenceClassification model from a BertForSequenceClassification model).\n",
            "Some layers of TFBertModel were not initialized from the model checkpoint at distilbert-base-cased and are newly initialized: ['bert']\n",
            "You should probably TRAIN this model on a down-stream task to be able to use it for predictions and inference.\n"
          ]
        },
        {
          "output_type": "stream",
          "name": "stdout",
          "text": [
            "WARNING:tensorflow:The parameters `output_attentions`, `output_hidden_states` and `use_cache` cannot be updated when calling a model.They have to be set to True/False in the config object (i.e.: `config=XConfig.from_pretrained('name', output_attentions=True)`).\n",
            "WARNING:tensorflow:AutoGraph could not transform <bound method Socket.send of <zmq.Socket(zmq.PUSH) at 0x7f1c6276f9f0>> and will run it as-is.\n",
            "Please report this to the TensorFlow team. When filing the bug, set the verbosity to 10 (on Linux, `export AUTOGRAPH_VERBOSITY=10`) and attach the full output.\n",
            "Cause: module, class, method, function, traceback, frame, or code object was expected, got cython_function_or_method\n",
            "To silence this warning, decorate the function with @tf.autograph.experimental.do_not_convert\n",
            "WARNING: AutoGraph could not transform <bound method Socket.send of <zmq.Socket(zmq.PUSH) at 0x7f1c6276f9f0>> and will run it as-is.\n",
            "Please report this to the TensorFlow team. When filing the bug, set the verbosity to 10 (on Linux, `export AUTOGRAPH_VERBOSITY=10`) and attach the full output.\n",
            "Cause: module, class, method, function, traceback, frame, or code object was expected, got cython_function_or_method\n",
            "To silence this warning, decorate the function with @tf.autograph.experimental.do_not_convert\n",
            "WARNING:tensorflow:AutoGraph could not transform <function wrap at 0x7f1c7d988c20> and will run it as-is.\n",
            "Cause: while/else statement not yet supported\n",
            "To silence this warning, decorate the function with @tf.autograph.experimental.do_not_convert\n",
            "WARNING: AutoGraph could not transform <function wrap at 0x7f1c7d988c20> and will run it as-is.\n",
            "Cause: while/else statement not yet supported\n",
            "To silence this warning, decorate the function with @tf.autograph.experimental.do_not_convert\n",
            "WARNING:tensorflow:The parameter `return_dict` cannot be set in graph mode and will always be set to `True`.\n",
            "Model: \"model\"\n",
            "__________________________________________________________________________________________________\n",
            " Layer (type)                   Output Shape         Param #     Connected to                     \n",
            "==================================================================================================\n",
            " attention_mask (InputLayer)    [(None, 200)]        0           []                               \n",
            "                                                                                                  \n",
            " input_ids (InputLayer)         [(None, 200)]        0           []                               \n",
            "                                                                                                  \n",
            " tf_bert_model (TFBertModel)    TFBaseModelOutputWi  108310272   ['attention_mask[0][0]',         \n",
            "                                thPooling(last_hidd               'input_ids[0][0]']              \n",
            "                                en_state=(None, 200                                               \n",
            "                                , 768),                                                           \n",
            "                                 pooler_output=(Non                                               \n",
            "                                e, 768),                                                          \n",
            "                                 hidden_states=None                                               \n",
            "                                , attentions=None)                                                \n",
            "                                                                                                  \n",
            " spatial_dropout1d (SpatialDrop  (None, 200, 768)    0           ['tf_bert_model[0][0]']          \n",
            " out1D)                                                                                           \n",
            "                                                                                                  \n",
            " bidirectional (Bidirectional)  (None, 200, 200)     522000      ['spatial_dropout1d[0][0]']      \n",
            "                                                                                                  \n",
            " bidirectional_1 (Bidirectional  (None, 200, 200)    695200      ['spatial_dropout1d[0][0]']      \n",
            " )                                                                                                \n",
            "                                                                                                  \n",
            " conv1d (Conv1D)                (None, 200, 50)      20050       ['bidirectional[0][0]']          \n",
            "                                                                                                  \n",
            " conv1d_1 (Conv1D)              (None, 200, 50)      20050       ['bidirectional_1[0][0]']        \n",
            "                                                                                                  \n",
            " global_average_pooling1d (Glob  (None, 50)          0           ['conv1d[0][0]']                 \n",
            " alAveragePooling1D)                                                                              \n",
            "                                                                                                  \n",
            " global_max_pooling1d (GlobalMa  (None, 50)          0           ['conv1d[0][0]']                 \n",
            " xPooling1D)                                                                                      \n",
            "                                                                                                  \n",
            " global_average_pooling1d_1 (Gl  (None, 50)          0           ['conv1d_1[0][0]']               \n",
            " obalAveragePooling1D)                                                                            \n",
            "                                                                                                  \n",
            " global_max_pooling1d_1 (Global  (None, 50)          0           ['conv1d_1[0][0]']               \n",
            " MaxPooling1D)                                                                                    \n",
            "                                                                                                  \n",
            " concatenate (Concatenate)      (None, 200)          0           ['global_average_pooling1d[0][0]'\n",
            "                                                                 , 'global_max_pooling1d[0][0]',  \n",
            "                                                                  'global_average_pooling1d_1[0][0\n",
            "                                                                 ]',                              \n",
            "                                                                  'global_max_pooling1d_1[0][0]'] \n",
            "                                                                                                  \n",
            " dropout_37 (Dropout)           (None, 200)          0           ['concatenate[0][0]']            \n",
            "                                                                                                  \n",
            " dense (Dense)                  (None, 68)           13668       ['dropout_37[0][0]']             \n",
            "                                                                                                  \n",
            "==================================================================================================\n",
            "Total params: 109,581,240\n",
            "Trainable params: 109,581,240\n",
            "Non-trainable params: 0\n",
            "__________________________________________________________________________________________________\n"
          ]
        }
      ]
    },
    {
      "cell_type": "code",
      "metadata": {
        "colab": {
          "base_uri": "https://localhost:8080/"
        },
        "id": "UbeZZ9ceHn1D",
        "outputId": "0217ecaf-8e57-462c-a618-86be9e669bae"
      },
      "source": [
        "from keras.callbacks import ModelCheckpoint, EarlyStopping\n",
        "from tensorflow.keras.utils import to_categorical\n",
        "import warnings\n",
        "warnings.filterwarnings(\"ignore\")\n",
        "\n",
        "callback = EarlyStopping(monitor='val_loss', patience=2)\n",
        "\n",
        "model.fit(train_features, np.array(y1), \n",
        "          validation_data=(dev_features, np.array(y2)), \n",
        "          batch_size=BATCH_SIZE, epochs=EPOCH)"
      ],
      "execution_count": null,
      "outputs": [
        {
          "output_type": "stream",
          "name": "stdout",
          "text": [
            "Epoch 1/30\n",
            "WARNING:tensorflow:The parameters `output_attentions`, `output_hidden_states` and `use_cache` cannot be updated when calling a model.They have to be set to True/False in the config object (i.e.: `config=XConfig.from_pretrained('name', output_attentions=True)`).\n",
            "WARNING:tensorflow:The parameter `return_dict` cannot be set in graph mode and will always be set to `True`.\n",
            "WARNING:tensorflow:Gradients do not exist for variables ['tf_bert_model/bert/pooler/dense/kernel:0', 'tf_bert_model/bert/pooler/dense/bias:0'] when minimizing the loss. If you're using `model.compile()`, did you forget to provide a `loss`argument?\n",
            "WARNING:tensorflow:The parameters `output_attentions`, `output_hidden_states` and `use_cache` cannot be updated when calling a model.They have to be set to True/False in the config object (i.e.: `config=XConfig.from_pretrained('name', output_attentions=True)`).\n",
            "WARNING:tensorflow:The parameter `return_dict` cannot be set in graph mode and will always be set to `True`.\n",
            "WARNING:tensorflow:Gradients do not exist for variables ['tf_bert_model/bert/pooler/dense/kernel:0', 'tf_bert_model/bert/pooler/dense/bias:0'] when minimizing the loss. If you're using `model.compile()`, did you forget to provide a `loss`argument?\n",
            "633/633 [==============================] - ETA: 0s - loss: 0.2793 - accuracy: 0.0205WARNING:tensorflow:The parameters `output_attentions`, `output_hidden_states` and `use_cache` cannot be updated when calling a model.They have to be set to True/False in the config object (i.e.: `config=XConfig.from_pretrained('name', output_attentions=True)`).\n",
            "WARNING:tensorflow:The parameter `return_dict` cannot be set in graph mode and will always be set to `True`.\n",
            "633/633 [==============================] - 538s 802ms/step - loss: 0.2793 - accuracy: 0.0205 - val_loss: 0.1267 - val_accuracy: 0.0500\n",
            "Epoch 2/30\n",
            "633/633 [==============================] - 505s 797ms/step - loss: 0.1779 - accuracy: 0.0313 - val_loss: 0.1226 - val_accuracy: 0.1528\n",
            "Epoch 3/30\n",
            "633/633 [==============================] - 511s 808ms/step - loss: 0.1476 - accuracy: 0.0608 - val_loss: 0.1121 - val_accuracy: 0.1949\n",
            "Epoch 4/30\n",
            "633/633 [==============================] - 511s 808ms/step - loss: 0.1225 - accuracy: 0.1317 - val_loss: 0.0996 - val_accuracy: 0.2318\n",
            "Epoch 5/30\n",
            "633/633 [==============================] - 511s 807ms/step - loss: 0.0995 - accuracy: 0.2422 - val_loss: 0.0925 - val_accuracy: 0.2722\n",
            "Epoch 6/30\n",
            "633/633 [==============================] - 511s 807ms/step - loss: 0.0828 - accuracy: 0.3297 - val_loss: 0.0841 - val_accuracy: 0.2886\n",
            "Epoch 7/30\n",
            "633/633 [==============================] - 505s 798ms/step - loss: 0.0720 - accuracy: 0.3739 - val_loss: 0.0822 - val_accuracy: 0.3028\n",
            "Epoch 8/30\n",
            "633/633 [==============================] - 505s 797ms/step - loss: 0.0642 - accuracy: 0.4065 - val_loss: 0.0775 - val_accuracy: 0.3085\n",
            "Epoch 9/30\n",
            "633/633 [==============================] - 511s 808ms/step - loss: 0.0583 - accuracy: 0.4225 - val_loss: 0.0757 - val_accuracy: 0.3358\n",
            "Epoch 10/30\n",
            "633/633 [==============================] - 512s 809ms/step - loss: 0.0534 - accuracy: 0.4431 - val_loss: 0.0754 - val_accuracy: 0.3318\n",
            "Epoch 11/30\n",
            "633/633 [==============================] - 512s 808ms/step - loss: 0.0500 - accuracy: 0.4516 - val_loss: 0.0730 - val_accuracy: 0.3261\n",
            "Epoch 12/30\n",
            "633/633 [==============================] - 505s 798ms/step - loss: 0.0470 - accuracy: 0.4692 - val_loss: 0.0731 - val_accuracy: 0.3313\n",
            "Epoch 13/30\n",
            "633/633 [==============================] - 505s 798ms/step - loss: 0.0444 - accuracy: 0.4766 - val_loss: 0.0728 - val_accuracy: 0.3528\n",
            "Epoch 14/30\n",
            "633/633 [==============================] - 505s 798ms/step - loss: 0.0420 - accuracy: 0.4863 - val_loss: 0.0743 - val_accuracy: 0.3466\n",
            "Epoch 15/30\n",
            "633/633 [==============================] - 505s 798ms/step - loss: 0.0400 - accuracy: 0.4959 - val_loss: 0.0738 - val_accuracy: 0.3580\n",
            "Epoch 16/30\n",
            "633/633 [==============================] - 512s 808ms/step - loss: 0.0382 - accuracy: 0.4970 - val_loss: 0.0720 - val_accuracy: 0.3517\n",
            "Epoch 17/30\n",
            "633/633 [==============================] - 512s 809ms/step - loss: 0.0364 - accuracy: 0.5132 - val_loss: 0.0739 - val_accuracy: 0.3562\n",
            "Epoch 18/30\n",
            "633/633 [==============================] - 512s 808ms/step - loss: 0.0349 - accuracy: 0.5143 - val_loss: 0.0724 - val_accuracy: 0.3710\n",
            "Epoch 19/30\n",
            "633/633 [==============================] - 505s 798ms/step - loss: 0.0339 - accuracy: 0.5289 - val_loss: 0.0750 - val_accuracy: 0.3852\n",
            "Epoch 20/30\n",
            "633/633 [==============================] - 505s 798ms/step - loss: 0.0324 - accuracy: 0.5308 - val_loss: 0.0736 - val_accuracy: 0.4131\n",
            "Epoch 21/30\n",
            "633/633 [==============================] - 505s 798ms/step - loss: 0.0313 - accuracy: 0.5387 - val_loss: 0.0727 - val_accuracy: 0.3642\n",
            "Epoch 22/30\n",
            "633/633 [==============================] - 505s 798ms/step - loss: 0.0303 - accuracy: 0.5418 - val_loss: 0.0773 - val_accuracy: 0.3591\n",
            "Epoch 23/30\n",
            "633/633 [==============================] - 505s 798ms/step - loss: 0.0290 - accuracy: 0.5508 - val_loss: 0.0744 - val_accuracy: 0.3517\n",
            "Epoch 24/30\n",
            "633/633 [==============================] - 505s 798ms/step - loss: 0.0281 - accuracy: 0.5574 - val_loss: 0.0757 - val_accuracy: 0.4045\n",
            "Epoch 25/30\n",
            "633/633 [==============================] - 512s 809ms/step - loss: 0.0270 - accuracy: 0.5680 - val_loss: 0.0773 - val_accuracy: 0.3585\n",
            "Epoch 26/30\n",
            "633/633 [==============================] - 505s 798ms/step - loss: 0.0263 - accuracy: 0.5715 - val_loss: 0.0778 - val_accuracy: 0.3608\n",
            "Epoch 27/30\n",
            "633/633 [==============================] - 505s 798ms/step - loss: 0.0251 - accuracy: 0.5803 - val_loss: 0.0774 - val_accuracy: 0.3756\n",
            "Epoch 28/30\n",
            "633/633 [==============================] - 505s 798ms/step - loss: 0.0244 - accuracy: 0.5856 - val_loss: 0.0774 - val_accuracy: 0.3881\n",
            "Epoch 29/30\n",
            "633/633 [==============================] - 511s 808ms/step - loss: 0.0234 - accuracy: 0.5906 - val_loss: 0.0798 - val_accuracy: 0.3886\n",
            "Epoch 30/30\n",
            "633/633 [==============================] - 505s 798ms/step - loss: 0.0228 - accuracy: 0.5934 - val_loss: 0.0789 - val_accuracy: 0.3778\n"
          ]
        },
        {
          "output_type": "execute_result",
          "data": {
            "text/plain": [
              "<keras.callbacks.History at 0x7f1a6a305350>"
            ]
          },
          "metadata": {},
          "execution_count": 14
        }
      ]
    },
    {
      "cell_type": "markdown",
      "metadata": {
        "id": "OHsxrnMTEKS5"
      },
      "source": [
        "# Evaluate"
      ]
    },
    {
      "cell_type": "code",
      "metadata": {
        "id": "SJ2VsIDyEbDf"
      },
      "source": [
        "# Evaluation metric\n",
        "import sys\n",
        "import os\n",
        "import os.path\n",
        "from scipy.stats import sem\n",
        "import numpy as np\n",
        "from ast import literal_eval\n",
        "import tensorflow as tf\n",
        "    \n",
        "def f1(predictions, gold):\n",
        "    if len(gold) == 0:\n",
        "        return 1. if len(predictions) == 0 else 0.\n",
        "    if len(predictions) == 0:\n",
        "        return 0.\n",
        "    predictions_set = set(predictions)\n",
        "    gold_set = set(gold)\n",
        "    nom = 2 * len(predictions_set.intersection(gold_set))\n",
        "    denom = len(predictions_set) + len(gold_set)\n",
        "    return float(nom)/float(denom)\n",
        "\n",
        "\n",
        "def evaluate(pred, gold):\n",
        "    pred_lines = pred\n",
        "    gold_lines = gold\n",
        "\n",
        "    # only when the same number of lines exists\n",
        "    if (len(pred_lines) == len(gold_lines)):\n",
        "        data_dic = {}\n",
        "        for n, line in enumerate(gold_lines):\n",
        "            parts = line.split('\\t')\n",
        "            if len(parts) == 2:\n",
        "                data_dic[int(parts[0])] = [literal_eval(parts[1])]\n",
        "            else:\n",
        "                raise ValueError('Format problem for gold line %d.', n)\n",
        "\n",
        "        for n, line in enumerate(pred_lines):\n",
        "            parts = line.split('\\t')\n",
        "            if len(parts) == 2:\n",
        "                if int(parts[0]) in data_dic:\n",
        "                    try:\n",
        "                        data_dic[int(parts[0])].append(literal_eval(parts[1]))\n",
        "                    except ValueError:\n",
        "                        # Invalid predictions are replaced by a default value\n",
        "                        data_dic[int(parts[0])].append([])\n",
        "                else:\n",
        "                    raise ValueError('Invalid text id for pred line %d.', n)\n",
        "            else:\n",
        "                raise ValueError('Format problem for pred line %d.', n)\n",
        "\n",
        "        # lists storing gold and prediction scores\n",
        "        scores = []\n",
        "        for id in data_dic:\n",
        "            if len(data_dic[id]) == 2:\n",
        "                gold_spans = data_dic[id][0]\n",
        "                pred_spans = data_dic[id][1]\n",
        "                scores.append(f1(pred_spans, gold_spans))\n",
        "            else:\n",
        "                sys.exit('Repeated id in test data.')\n",
        "\n",
        "        return (np.mean(scores), sem(scores))\n",
        "\n",
        "def accuracy_score(y_true, y_pred):\n",
        "    temp = 0\n",
        "    for i in range(0, len(y_true)):\n",
        "        temp += sum(np.logical_and(y_true[i], y_pred[i])) / sum(np.logical_or(y_true[i], y_pred[i]))\n",
        "    return temp / len(y_true)\n",
        "\n",
        " \n",
        "def f1_score(y_true, y_pred):\n",
        "    temp = 0\n",
        "    for i in range(len(y_true)):\n",
        "        if (sum(y_true[i]) == 0) and (sum(y_pred[i]) == 0):\n",
        "            continue\n",
        "        temp+= (2*sum(np.logical_and(y_true[i], y_pred[i]))) / (sum(y_true[i])+sum(y_pred[i]))\n",
        "    return temp/ len(y_true)\n",
        "\n",
        "def em_score(y_true, y_pred):\n",
        "    MR = np.all(y_pred == y_true, axis=1).mean()\n",
        "    return MR"
      ],
      "execution_count": null,
      "outputs": []
    },
    {
      "cell_type": "code",
      "metadata": {
        "colab": {
          "base_uri": "https://localhost:8080/"
        },
        "id": "tLEx8J3wEL22",
        "outputId": "cc12b07e-c598-4ed3-efce-f24b60837672"
      },
      "source": [
        "y_test_pred = model.predict(test_features)\n",
        "y_dev_pred = model.predict(dev_features)\n",
        "\n",
        "y_dev_pred_new = []\n",
        "\n",
        "for y in y_dev_pred:\n",
        "    lb = []\n",
        "    for i in range(0, len(y)):\n",
        "        if y[i] >= 0.5:\n",
        "            lb.append(1)\n",
        "        else:\n",
        "            lb.append(0)\n",
        "    y_dev_pred_new.append(lb)\n",
        "\n",
        "y_test_pred_new = []\n",
        "\n",
        "for y in y_test_pred:\n",
        "    lb = []\n",
        "    for i in range(0, len(y)):\n",
        "        if y[i] >= 0.5:\n",
        "            lb.append(1)\n",
        "        else:\n",
        "            lb.append(0)\n",
        "    y_test_pred_new.append(lb)"
      ],
      "execution_count": null,
      "outputs": [
        {
          "output_type": "stream",
          "name": "stdout",
          "text": [
            "WARNING:tensorflow:The parameters `output_attentions`, `output_hidden_states` and `use_cache` cannot be updated when calling a model.They have to be set to True/False in the config object (i.e.: `config=XConfig.from_pretrained('name', output_attentions=True)`).\n",
            "WARNING:tensorflow:The parameter `return_dict` cannot be set in graph mode and will always be set to `True`.\n",
            "WARNING:tensorflow:The parameters `output_attentions`, `output_hidden_states` and `use_cache` cannot be updated when calling a model.They have to be set to True/False in the config object (i.e.: `config=XConfig.from_pretrained('name', output_attentions=True)`).\n",
            "WARNING:tensorflow:The parameter `return_dict` cannot be set in graph mode and will always be set to `True`.\n"
          ]
        }
      ]
    },
    {
      "cell_type": "code",
      "metadata": {
        "id": "KtTJTia_fJsm",
        "colab": {
          "base_uri": "https://localhost:8080/"
        },
        "outputId": "841a203b-e568-4ec5-92e2-2e36776c0ef8"
      },
      "source": [
        "f1_score(y_dev, y_dev_pred_new)*100, accuracy_score(y_dev, y_dev_pred_new)*100"
      ],
      "execution_count": null,
      "outputs": [
        {
          "output_type": "execute_result",
          "data": {
            "text/plain": [
              "(57.98579545454518, 54.63839285714302)"
            ]
          },
          "metadata": {},
          "execution_count": 23
        }
      ]
    },
    {
      "cell_type": "code",
      "metadata": {
        "id": "s2rhb9YyffnR",
        "colab": {
          "base_uri": "https://localhost:8080/"
        },
        "outputId": "45c090d7-25a2-44c3-c310-e3b9ef9bac4b"
      },
      "source": [
        "f1_score(y_test, y_test_pred_new)*100, accuracy_score(y_test, y_test_pred_new)*100"
      ],
      "execution_count": null,
      "outputs": [
        {
          "output_type": "execute_result",
          "data": {
            "text/plain": [
              "(42.17976503254942, 36.46108023682387)"
            ]
          },
          "metadata": {},
          "execution_count": 24
        }
      ]
    },
    {
      "cell_type": "markdown",
      "metadata": {
        "id": "AJkD3y62rfFm"
      },
      "source": [
        "# Error Analysis "
      ]
    },
    {
      "cell_type": "code",
      "metadata": {
        "id": "Mf9IyTWWrhyy"
      },
      "source": [
        "label_dev = []\n",
        "label_dev_pred = []\n",
        "for i in range(len(y_dev)):\n",
        "    label_dev.append(return_label(y_dev[i]))\n",
        "    label_dev_pred.append(return_label(y_dev_pred_new[i]))\n",
        "\n",
        "label_test = []\n",
        "label_test_pred = []\n",
        "for i in range(len(y_test)):\n",
        "    label_test.append(return_label(y_test[i]))\n",
        "    label_test_pred.append(return_label(y_test_pred_new[i]))"
      ],
      "execution_count": null,
      "outputs": []
    },
    {
      "cell_type": "code",
      "metadata": {
        "id": "KGtczntIrjY2"
      },
      "source": [
        "dev_result = pd.DataFrame([list(X_dev), label_dev, label_dev_pred]).T\n",
        "test_result = pd.DataFrame([list(X_test), label_test, label_test_pred]).T"
      ],
      "execution_count": null,
      "outputs": []
    },
    {
      "cell_type": "code",
      "metadata": {
        "id": "ExcTYyhgrk9h"
      },
      "source": [
        "header = ['description', 'true_label', 'predicted_label']\n",
        "dev_result.columns = header\n",
        "test_result.columns = header\n",
        "\n",
        "dev_result.head()"
      ],
      "execution_count": null,
      "outputs": []
    }
  ]
}